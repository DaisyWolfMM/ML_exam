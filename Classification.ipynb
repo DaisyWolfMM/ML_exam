{
 "cells": [
  {
   "cell_type": "code",
   "execution_count": 1,
   "metadata": {},
   "outputs": [],
   "source": [
    "# Импорт библиотек\n",
    "import numpy as np\n",
    "import pandas as pd\n",
    "import lightgbm as lgb\n",
    "import hyperopt\n",
    "import random\n",
    "import time\n",
    "from hyperopt import hp, fmin, tpe, STATUS_OK, Trials\n",
    "from hyperopt.pyll import scope\n",
    "from sklearn.model_selection import train_test_split\n",
    "from sklearn.impute import SimpleImputer\n",
    "from sklearn.ensemble import IsolationForest\n",
    "from sklearn.metrics import accuracy_score, recall_score, precision_score, roc_auc_score\n",
    "from sklearn.model_selection import cross_val_score\n",
    "from sklearn.metrics import make_scorer\n",
    "from sklearn.feature_selection import SelectKBest, chi2, SelectFromModel\n",
    "import matplotlib.pyplot as plt"
   ]
  },
  {
   "cell_type": "code",
   "execution_count": 3,
   "metadata": {},
   "outputs": [],
   "source": [
    "del X_train['Id']"
   ]
  },
  {
   "cell_type": "code",
   "execution_count": 4,
   "metadata": {},
   "outputs": [
    {
     "data": {
      "text/plain": [
       "Index(['sex', 'НЕВЕРОТН 1  Невероятные приключения итальянцев в России',\n",
       "       'ТЕЛОХРАН 2  Телохранитель',\n",
       "       'КАВКАЗСК 3  Кавказская пленница или Новые приключения Шурика',\n",
       "       'ПТЫЙ_ЭЛЕ 4  Пятый элемент', 'ТЕРМИНАТ 5  Терминатор',\n",
       "       'КРЕПКИЙ 6  Крепкий орешек', 'ПОЛИЦ_АК 7  Полицейская академия',\n",
       "       'ЧУЖИЕ 8  Чужие', 'КРОКОДИЛ 9  Крокодил Данди',\n",
       "       ...\n",
       "       'РУКА_ПЕР 191 Рука-переплетение пальцев рук - ведущая',\n",
       "       'РУКА_ИМИ 192 Рука-имитация аплодисментов - ведущая',\n",
       "       'РУКА_СКР 193 Рука-скрещивание рук на груди - ведущая',\n",
       "       'HОГА 194 Hога - ведущая', 'ГЛАЗ 195 Глаз - ведущая',\n",
       "       'РУКОЙ_ПИ 196 Рука  которой пишут',\n",
       "       'ПЕРЕУЧИВ 197 Переучивали ли писать  если левша',\n",
       "       'САМООПPЕ 198 Самоопpеделение пpавша-левша',\n",
       "       'БОК_ПРЕД 199 Бок  на котором предпочитают спать',\n",
       "       'ГЛАЗ_У_В 200 Глаз  который обычно шире открыт'],\n",
       "      dtype='object', length=162)"
      ]
     },
     "execution_count": 4,
     "metadata": {},
     "output_type": "execute_result"
    }
   ],
   "source": [
    "X_train.columns"
   ]
  },
  {
   "cell_type": "markdown",
   "metadata": {},
   "source": [
    "Убираем где непонятно какой пол "
   ]
  },
  {
   "cell_type": "code",
   "execution_count": 6,
   "metadata": {},
   "outputs": [],
   "source": [
    "X_train=X_train[X_train.sex>0]"
   ]
  },
  {
   "cell_type": "code",
   "execution_count": 7,
   "metadata": {},
   "outputs": [],
   "source": [
    "#cols = X_train.columns"
   ]
  },
  {
   "cell_type": "code",
   "execution_count": 8,
   "metadata": {},
   "outputs": [],
   "source": [
    "#cols_del = list(X_train.isna().sum()>300)"
   ]
  },
  {
   "cell_type": "code",
   "execution_count": 9,
   "metadata": {},
   "outputs": [],
   "source": [
    " #не нужные стоблцы\n",
    "#X_train=X_train.drop(cols[list(X_train.isna().sum()>300)], axis = 1)\n"
   ]
  },
  {
   "cell_type": "code",
   "execution_count": 5,
   "metadata": {},
   "outputs": [
    {
     "data": {
      "text/html": [
       "<div>\n",
       "<style scoped>\n",
       "    .dataframe tbody tr th:only-of-type {\n",
       "        vertical-align: middle;\n",
       "    }\n",
       "\n",
       "    .dataframe tbody tr th {\n",
       "        vertical-align: top;\n",
       "    }\n",
       "\n",
       "    .dataframe thead th {\n",
       "        text-align: right;\n",
       "    }\n",
       "</style>\n",
       "<table border=\"1\" class=\"dataframe\">\n",
       "  <thead>\n",
       "    <tr style=\"text-align: right;\">\n",
       "      <th></th>\n",
       "      <th>sex</th>\n",
       "      <th>НЕВЕРОТН 1  Невероятные приключения итальянцев в России</th>\n",
       "      <th>ТЕЛОХРАН 2  Телохранитель</th>\n",
       "      <th>КАВКАЗСК 3  Кавказская пленница или Новые приключения Шурика</th>\n",
       "      <th>ПТЫЙ_ЭЛЕ 4  Пятый элемент</th>\n",
       "      <th>ТЕРМИНАТ 5  Терминатор</th>\n",
       "      <th>КРЕПКИЙ 6  Крепкий орешек</th>\n",
       "      <th>ПОЛИЦ_АК 7  Полицейская академия</th>\n",
       "      <th>ЧУЖИЕ 8  Чужие</th>\n",
       "      <th>КРОКОДИЛ 9  Крокодил Данди</th>\n",
       "      <th>...</th>\n",
       "      <th>РУКА_ПЕР 191 Рука-переплетение пальцев рук - ведущая</th>\n",
       "      <th>РУКА_ИМИ 192 Рука-имитация аплодисментов - ведущая</th>\n",
       "      <th>РУКА_СКР 193 Рука-скрещивание рук на груди - ведущая</th>\n",
       "      <th>HОГА 194 Hога - ведущая</th>\n",
       "      <th>ГЛАЗ 195 Глаз - ведущая</th>\n",
       "      <th>РУКОЙ_ПИ 196 Рука  которой пишут</th>\n",
       "      <th>ПЕРЕУЧИВ 197 Переучивали ли писать  если левша</th>\n",
       "      <th>САМООПPЕ 198 Самоопpеделение пpавша-левша</th>\n",
       "      <th>БОК_ПРЕД 199 Бок  на котором предпочитают спать</th>\n",
       "      <th>ГЛАЗ_У_В 200 Глаз  который обычно шире открыт</th>\n",
       "    </tr>\n",
       "  </thead>\n",
       "  <tbody>\n",
       "    <tr>\n",
       "      <td>0</td>\n",
       "      <td>2.0</td>\n",
       "      <td>5.0</td>\n",
       "      <td>6.0</td>\n",
       "      <td>8.0</td>\n",
       "      <td>11.7</td>\n",
       "      <td>8.7</td>\n",
       "      <td>8.0</td>\n",
       "      <td>8.0</td>\n",
       "      <td>5.0</td>\n",
       "      <td>3.0</td>\n",
       "      <td>...</td>\n",
       "      <td>1.0</td>\n",
       "      <td>2.0</td>\n",
       "      <td>2.0</td>\n",
       "      <td>2.0</td>\n",
       "      <td>2.0</td>\n",
       "      <td>1.0</td>\n",
       "      <td>4.0</td>\n",
       "      <td>1.0</td>\n",
       "      <td>2.0</td>\n",
       "      <td>2.0</td>\n",
       "    </tr>\n",
       "    <tr>\n",
       "      <td>1</td>\n",
       "      <td>1.0</td>\n",
       "      <td>7.0</td>\n",
       "      <td>7.0</td>\n",
       "      <td>7.0</td>\n",
       "      <td>10.0</td>\n",
       "      <td>3.0</td>\n",
       "      <td>9.0</td>\n",
       "      <td>6.2</td>\n",
       "      <td>12.0</td>\n",
       "      <td>2.0</td>\n",
       "      <td>...</td>\n",
       "      <td>1.0</td>\n",
       "      <td>1.0</td>\n",
       "      <td>1.0</td>\n",
       "      <td>1.0</td>\n",
       "      <td>2.0</td>\n",
       "      <td>1.0</td>\n",
       "      <td>1.0</td>\n",
       "      <td>2.0</td>\n",
       "      <td>2.0</td>\n",
       "      <td>3.0</td>\n",
       "    </tr>\n",
       "    <tr>\n",
       "      <td>2</td>\n",
       "      <td>1.0</td>\n",
       "      <td>12.0</td>\n",
       "      <td>7.0</td>\n",
       "      <td>6.0</td>\n",
       "      <td>10.0</td>\n",
       "      <td>7.0</td>\n",
       "      <td>8.0</td>\n",
       "      <td>7.0</td>\n",
       "      <td>6.0</td>\n",
       "      <td>7.0</td>\n",
       "      <td>...</td>\n",
       "      <td>2.0</td>\n",
       "      <td>1.0</td>\n",
       "      <td>2.0</td>\n",
       "      <td>1.0</td>\n",
       "      <td>2.0</td>\n",
       "      <td>1.0</td>\n",
       "      <td>4.0</td>\n",
       "      <td>2.0</td>\n",
       "      <td>3.0</td>\n",
       "      <td>2.0</td>\n",
       "    </tr>\n",
       "    <tr>\n",
       "      <td>3</td>\n",
       "      <td>1.0</td>\n",
       "      <td>7.0</td>\n",
       "      <td>8.0</td>\n",
       "      <td>12.0</td>\n",
       "      <td>7.0</td>\n",
       "      <td>12.0</td>\n",
       "      <td>11.0</td>\n",
       "      <td>9.0</td>\n",
       "      <td>12.0</td>\n",
       "      <td>10.0</td>\n",
       "      <td>...</td>\n",
       "      <td>2.0</td>\n",
       "      <td>2.0</td>\n",
       "      <td>1.0</td>\n",
       "      <td>2.0</td>\n",
       "      <td>2.0</td>\n",
       "      <td>1.0</td>\n",
       "      <td>NaN</td>\n",
       "      <td>1.0</td>\n",
       "      <td>3.0</td>\n",
       "      <td>1.0</td>\n",
       "    </tr>\n",
       "    <tr>\n",
       "      <td>4</td>\n",
       "      <td>1.0</td>\n",
       "      <td>5.0</td>\n",
       "      <td>9.0</td>\n",
       "      <td>2.0</td>\n",
       "      <td>11.0</td>\n",
       "      <td>8.0</td>\n",
       "      <td>6.0</td>\n",
       "      <td>2.0</td>\n",
       "      <td>3.0</td>\n",
       "      <td>4.0</td>\n",
       "      <td>...</td>\n",
       "      <td>1.0</td>\n",
       "      <td>2.0</td>\n",
       "      <td>2.0</td>\n",
       "      <td>2.0</td>\n",
       "      <td>2.0</td>\n",
       "      <td>1.0</td>\n",
       "      <td>4.0</td>\n",
       "      <td>1.0</td>\n",
       "      <td>1.0</td>\n",
       "      <td>2.0</td>\n",
       "    </tr>\n",
       "    <tr>\n",
       "      <td>...</td>\n",
       "      <td>...</td>\n",
       "      <td>...</td>\n",
       "      <td>...</td>\n",
       "      <td>...</td>\n",
       "      <td>...</td>\n",
       "      <td>...</td>\n",
       "      <td>...</td>\n",
       "      <td>...</td>\n",
       "      <td>...</td>\n",
       "      <td>...</td>\n",
       "      <td>...</td>\n",
       "      <td>...</td>\n",
       "      <td>...</td>\n",
       "      <td>...</td>\n",
       "      <td>...</td>\n",
       "      <td>...</td>\n",
       "      <td>...</td>\n",
       "      <td>...</td>\n",
       "      <td>...</td>\n",
       "      <td>...</td>\n",
       "      <td>...</td>\n",
       "    </tr>\n",
       "    <tr>\n",
       "      <td>995</td>\n",
       "      <td>2.0</td>\n",
       "      <td>7.0</td>\n",
       "      <td>5.0</td>\n",
       "      <td>3.0</td>\n",
       "      <td>6.0</td>\n",
       "      <td>1.0</td>\n",
       "      <td>4.0</td>\n",
       "      <td>4.0</td>\n",
       "      <td>3.0</td>\n",
       "      <td>5.0</td>\n",
       "      <td>...</td>\n",
       "      <td>NaN</td>\n",
       "      <td>NaN</td>\n",
       "      <td>NaN</td>\n",
       "      <td>NaN</td>\n",
       "      <td>NaN</td>\n",
       "      <td>NaN</td>\n",
       "      <td>NaN</td>\n",
       "      <td>NaN</td>\n",
       "      <td>NaN</td>\n",
       "      <td>NaN</td>\n",
       "    </tr>\n",
       "    <tr>\n",
       "      <td>996</td>\n",
       "      <td>NaN</td>\n",
       "      <td>7.0</td>\n",
       "      <td>7.5</td>\n",
       "      <td>8.0</td>\n",
       "      <td>6.0</td>\n",
       "      <td>3.0</td>\n",
       "      <td>5.0</td>\n",
       "      <td>3.0</td>\n",
       "      <td>4.0</td>\n",
       "      <td>6.0</td>\n",
       "      <td>...</td>\n",
       "      <td>NaN</td>\n",
       "      <td>NaN</td>\n",
       "      <td>NaN</td>\n",
       "      <td>NaN</td>\n",
       "      <td>NaN</td>\n",
       "      <td>NaN</td>\n",
       "      <td>NaN</td>\n",
       "      <td>NaN</td>\n",
       "      <td>NaN</td>\n",
       "      <td>NaN</td>\n",
       "    </tr>\n",
       "    <tr>\n",
       "      <td>997</td>\n",
       "      <td>1.0</td>\n",
       "      <td>7.0</td>\n",
       "      <td>7.0</td>\n",
       "      <td>7.5</td>\n",
       "      <td>10.0</td>\n",
       "      <td>11.0</td>\n",
       "      <td>9.0</td>\n",
       "      <td>9.0</td>\n",
       "      <td>6.0</td>\n",
       "      <td>11.0</td>\n",
       "      <td>...</td>\n",
       "      <td>NaN</td>\n",
       "      <td>NaN</td>\n",
       "      <td>NaN</td>\n",
       "      <td>NaN</td>\n",
       "      <td>NaN</td>\n",
       "      <td>NaN</td>\n",
       "      <td>NaN</td>\n",
       "      <td>NaN</td>\n",
       "      <td>NaN</td>\n",
       "      <td>NaN</td>\n",
       "    </tr>\n",
       "    <tr>\n",
       "      <td>998</td>\n",
       "      <td>1.0</td>\n",
       "      <td>7.0</td>\n",
       "      <td>10.0</td>\n",
       "      <td>7.0</td>\n",
       "      <td>10.0</td>\n",
       "      <td>7.0</td>\n",
       "      <td>8.0</td>\n",
       "      <td>7.0</td>\n",
       "      <td>7.0</td>\n",
       "      <td>7.0</td>\n",
       "      <td>...</td>\n",
       "      <td>NaN</td>\n",
       "      <td>NaN</td>\n",
       "      <td>NaN</td>\n",
       "      <td>NaN</td>\n",
       "      <td>NaN</td>\n",
       "      <td>NaN</td>\n",
       "      <td>NaN</td>\n",
       "      <td>NaN</td>\n",
       "      <td>NaN</td>\n",
       "      <td>NaN</td>\n",
       "    </tr>\n",
       "    <tr>\n",
       "      <td>999</td>\n",
       "      <td>1.0</td>\n",
       "      <td>6.0</td>\n",
       "      <td>2.0</td>\n",
       "      <td>9.0</td>\n",
       "      <td>7.0</td>\n",
       "      <td>2.0</td>\n",
       "      <td>4.0</td>\n",
       "      <td>6.0</td>\n",
       "      <td>1.0</td>\n",
       "      <td>4.0</td>\n",
       "      <td>...</td>\n",
       "      <td>NaN</td>\n",
       "      <td>NaN</td>\n",
       "      <td>NaN</td>\n",
       "      <td>NaN</td>\n",
       "      <td>NaN</td>\n",
       "      <td>NaN</td>\n",
       "      <td>NaN</td>\n",
       "      <td>NaN</td>\n",
       "      <td>NaN</td>\n",
       "      <td>NaN</td>\n",
       "    </tr>\n",
       "  </tbody>\n",
       "</table>\n",
       "<p>1000 rows × 162 columns</p>\n",
       "</div>"
      ],
      "text/plain": [
       "     sex  НЕВЕРОТН 1  Невероятные приключения итальянцев в России  \\\n",
       "0    2.0                                                5.0         \n",
       "1    1.0                                                7.0         \n",
       "2    1.0                                               12.0         \n",
       "3    1.0                                                7.0         \n",
       "4    1.0                                                5.0         \n",
       "..   ...                                                ...         \n",
       "995  2.0                                                7.0         \n",
       "996  NaN                                                7.0         \n",
       "997  1.0                                                7.0         \n",
       "998  1.0                                                7.0         \n",
       "999  1.0                                                6.0         \n",
       "\n",
       "     ТЕЛОХРАН 2  Телохранитель  \\\n",
       "0                          6.0   \n",
       "1                          7.0   \n",
       "2                          7.0   \n",
       "3                          8.0   \n",
       "4                          9.0   \n",
       "..                         ...   \n",
       "995                        5.0   \n",
       "996                        7.5   \n",
       "997                        7.0   \n",
       "998                       10.0   \n",
       "999                        2.0   \n",
       "\n",
       "     КАВКАЗСК 3  Кавказская пленница или Новые приключения Шурика  \\\n",
       "0                                                  8.0              \n",
       "1                                                  7.0              \n",
       "2                                                  6.0              \n",
       "3                                                 12.0              \n",
       "4                                                  2.0              \n",
       "..                                                 ...              \n",
       "995                                                3.0              \n",
       "996                                                8.0              \n",
       "997                                                7.5              \n",
       "998                                                7.0              \n",
       "999                                                9.0              \n",
       "\n",
       "     ПТЫЙ_ЭЛЕ 4  Пятый элемент  ТЕРМИНАТ 5  Терминатор  \\\n",
       "0                         11.7                     8.7   \n",
       "1                         10.0                     3.0   \n",
       "2                         10.0                     7.0   \n",
       "3                          7.0                    12.0   \n",
       "4                         11.0                     8.0   \n",
       "..                         ...                     ...   \n",
       "995                        6.0                     1.0   \n",
       "996                        6.0                     3.0   \n",
       "997                       10.0                    11.0   \n",
       "998                       10.0                     7.0   \n",
       "999                        7.0                     2.0   \n",
       "\n",
       "     КРЕПКИЙ 6  Крепкий орешек  ПОЛИЦ_АК 7  Полицейская академия  \\\n",
       "0                          8.0                               8.0   \n",
       "1                          9.0                               6.2   \n",
       "2                          8.0                               7.0   \n",
       "3                         11.0                               9.0   \n",
       "4                          6.0                               2.0   \n",
       "..                         ...                               ...   \n",
       "995                        4.0                               4.0   \n",
       "996                        5.0                               3.0   \n",
       "997                        9.0                               9.0   \n",
       "998                        8.0                               7.0   \n",
       "999                        4.0                               6.0   \n",
       "\n",
       "     ЧУЖИЕ 8  Чужие  КРОКОДИЛ 9  Крокодил Данди  ...  \\\n",
       "0               5.0                         3.0  ...   \n",
       "1              12.0                         2.0  ...   \n",
       "2               6.0                         7.0  ...   \n",
       "3              12.0                        10.0  ...   \n",
       "4               3.0                         4.0  ...   \n",
       "..              ...                         ...  ...   \n",
       "995             3.0                         5.0  ...   \n",
       "996             4.0                         6.0  ...   \n",
       "997             6.0                        11.0  ...   \n",
       "998             7.0                         7.0  ...   \n",
       "999             1.0                         4.0  ...   \n",
       "\n",
       "     РУКА_ПЕР 191 Рука-переплетение пальцев рук - ведущая  \\\n",
       "0                                                  1.0      \n",
       "1                                                  1.0      \n",
       "2                                                  2.0      \n",
       "3                                                  2.0      \n",
       "4                                                  1.0      \n",
       "..                                                 ...      \n",
       "995                                                NaN      \n",
       "996                                                NaN      \n",
       "997                                                NaN      \n",
       "998                                                NaN      \n",
       "999                                                NaN      \n",
       "\n",
       "     РУКА_ИМИ 192 Рука-имитация аплодисментов - ведущая  \\\n",
       "0                                                  2.0    \n",
       "1                                                  1.0    \n",
       "2                                                  1.0    \n",
       "3                                                  2.0    \n",
       "4                                                  2.0    \n",
       "..                                                 ...    \n",
       "995                                                NaN    \n",
       "996                                                NaN    \n",
       "997                                                NaN    \n",
       "998                                                NaN    \n",
       "999                                                NaN    \n",
       "\n",
       "     РУКА_СКР 193 Рука-скрещивание рук на груди - ведущая  \\\n",
       "0                                                  2.0      \n",
       "1                                                  1.0      \n",
       "2                                                  2.0      \n",
       "3                                                  1.0      \n",
       "4                                                  2.0      \n",
       "..                                                 ...      \n",
       "995                                                NaN      \n",
       "996                                                NaN      \n",
       "997                                                NaN      \n",
       "998                                                NaN      \n",
       "999                                                NaN      \n",
       "\n",
       "     HОГА 194 Hога - ведущая  ГЛАЗ 195 Глаз - ведущая  \\\n",
       "0                        2.0                      2.0   \n",
       "1                        1.0                      2.0   \n",
       "2                        1.0                      2.0   \n",
       "3                        2.0                      2.0   \n",
       "4                        2.0                      2.0   \n",
       "..                       ...                      ...   \n",
       "995                      NaN                      NaN   \n",
       "996                      NaN                      NaN   \n",
       "997                      NaN                      NaN   \n",
       "998                      NaN                      NaN   \n",
       "999                      NaN                      NaN   \n",
       "\n",
       "     РУКОЙ_ПИ 196 Рука  которой пишут  \\\n",
       "0                                 1.0   \n",
       "1                                 1.0   \n",
       "2                                 1.0   \n",
       "3                                 1.0   \n",
       "4                                 1.0   \n",
       "..                                ...   \n",
       "995                               NaN   \n",
       "996                               NaN   \n",
       "997                               NaN   \n",
       "998                               NaN   \n",
       "999                               NaN   \n",
       "\n",
       "     ПЕРЕУЧИВ 197 Переучивали ли писать  если левша  \\\n",
       "0                                               4.0   \n",
       "1                                               1.0   \n",
       "2                                               4.0   \n",
       "3                                               NaN   \n",
       "4                                               4.0   \n",
       "..                                              ...   \n",
       "995                                             NaN   \n",
       "996                                             NaN   \n",
       "997                                             NaN   \n",
       "998                                             NaN   \n",
       "999                                             NaN   \n",
       "\n",
       "     САМООПPЕ 198 Самоопpеделение пpавша-левша  \\\n",
       "0                                          1.0   \n",
       "1                                          2.0   \n",
       "2                                          2.0   \n",
       "3                                          1.0   \n",
       "4                                          1.0   \n",
       "..                                         ...   \n",
       "995                                        NaN   \n",
       "996                                        NaN   \n",
       "997                                        NaN   \n",
       "998                                        NaN   \n",
       "999                                        NaN   \n",
       "\n",
       "     БОК_ПРЕД 199 Бок  на котором предпочитают спать  \\\n",
       "0                                                2.0   \n",
       "1                                                2.0   \n",
       "2                                                3.0   \n",
       "3                                                3.0   \n",
       "4                                                1.0   \n",
       "..                                               ...   \n",
       "995                                              NaN   \n",
       "996                                              NaN   \n",
       "997                                              NaN   \n",
       "998                                              NaN   \n",
       "999                                              NaN   \n",
       "\n",
       "     ГЛАЗ_У_В 200 Глаз  который обычно шире открыт  \n",
       "0                                              2.0  \n",
       "1                                              3.0  \n",
       "2                                              2.0  \n",
       "3                                              1.0  \n",
       "4                                              2.0  \n",
       "..                                             ...  \n",
       "995                                            NaN  \n",
       "996                                            NaN  \n",
       "997                                            NaN  \n",
       "998                                            NaN  \n",
       "999                                            NaN  \n",
       "\n",
       "[1000 rows x 162 columns]"
      ]
     },
     "execution_count": 5,
     "metadata": {},
     "output_type": "execute_result"
    }
   ],
   "source": [
    "X_train"
   ]
  },
  {
   "cell_type": "markdown",
   "metadata": {},
   "source": [
    "И давайте сразу же запустим тестовые "
   ]
  },
  {
   "cell_type": "code",
   "execution_count": 6,
   "metadata": {},
   "outputs": [],
   "source": [
    "X_test= pd.read_csv('predict_sex_test_no_answers_no_mv.csv', sep = ',', encoding = 'utf-8')"
   ]
  },
  {
   "cell_type": "code",
   "execution_count": 7,
   "metadata": {},
   "outputs": [],
   "source": [
    "y=X_train.sex\n",
    "X_train=X_train.drop(['sex'], axis = 1)"
   ]
  },
  {
   "cell_type": "code",
   "execution_count": 13,
   "metadata": {},
   "outputs": [],
   "source": [
    "del X_test['Id']"
   ]
  },
  {
   "cell_type": "code",
   "execution_count": 14,
   "metadata": {},
   "outputs": [],
   "source": [
    "smp = SimpleImputer(strategy='constant',fill_value= -1) # задаем параметры замены пропущенных значений\n",
    "X_train = smp.fit_transform(X_train) # метод fit_transform подгоняется под тренировочный набор и на месте его преобразовывает\n",
    "X_test = smp.transform(X_test)"
   ]
  },
  {
   "cell_type": "code",
   "execution_count": 15,
   "metadata": {},
   "outputs": [],
   "source": [
    "# Пространство перебора гиперпараметров для hyperopt\n",
    "\n",
    "space ={\n",
    "        'boosting_type': hp.choice('boosting_type', ['gbdt', 'dart']), # тип бустинга\n",
    "        'max_depth': scope.int(hp.quniform(\"max_depth\", 4, 10, 1)), # максимальная глубина одного дерева ансамбля\n",
    "        'n_estimators': scope.int(hp.quniform('n_estimators', 100, 1000, 10)), # кол-во деревьев\n",
    "        'num_leaves': scope.int(hp.quniform ('num_leaves', 20, 100, 1)), # максимальное кол-во листьев в дереве\n",
    "        'min_data_in_leaf':  scope.int(hp.quniform ('min_data_in_leaf', 10, 100, 1)), # мин. кол-во наблюдений в листе\n",
    "        'feature_fraction': hp.uniform('feature_fraction', 0.6, 1.0), # процент фич, используемых на одной итерации \n",
    "        'bagging_fraction': hp.uniform('bagging_fraction', 0.6, 1.0), # процент наблюдений, используемых на одной итерации\n",
    "        'learning_rate': hp.uniform('learning_rate', 0.001, 0.4), # скорость обучения\n",
    "        'lambda_l1': hp.uniform('lambda_l1', 1e-6, 5 ), # регуляризатор l1\n",
    "        'lambda_l2': hp.uniform('lambda_l2', 1e-6, 5 ), # регулязиатор l2\n",
    "        'seed': hp.randint('seed',2000000)\n",
    "       }"
   ]
  },
  {
   "cell_type": "code",
   "execution_count": 16,
   "metadata": {},
   "outputs": [],
   "source": [
    "# Целевая функция для hyperopt (по ней оптимизируемся)\n",
    "\n",
    "def objective(space):\n",
    "    clf = lgb.LGBMClassifier(**space)\n",
    "    current_score = cross_val_score(clf, X_train, y, cv = 5, scoring = make_scorer(roc_auc_score, needs_proba = True)).mean()\n",
    "    return -current_score"
   ]
  },
  {
   "cell_type": "code",
   "execution_count": 17,
   "metadata": {},
   "outputs": [
    {
     "name": "stdout",
     "output_type": "stream",
     "text": [
      "100%|█████████████████████████████████████████████| 200/200 [22:25<00:00,  6.73s/trial, best loss: -0.8906619566451026]\n"
     ]
    }
   ],
   "source": [
    "# Оптимизация hyperopt\n",
    "# ДОЛГО!!! max_evals влияет на время выполнения (1 итерация приблизительно 30 минут)\n",
    "best = fmin(fn = objective, space = space, algo = tpe.suggest, max_evals = 200)"
   ]
  },
  {
   "cell_type": "code",
   "execution_count": 18,
   "metadata": {},
   "outputs": [],
   "source": [
    "# определеяем модель с подобранными гиперпараметрами\n",
    "lgb_model = lgb.LGBMClassifier(**best)"
   ]
  },
  {
   "cell_type": "code",
   "execution_count": 19,
   "metadata": {},
   "outputs": [
    {
     "data": {
      "text/plain": [
       "{'bagging_fraction': 0.7952194298134458,\n",
       " 'boosting_type': 1,\n",
       " 'feature_fraction': 0.9364242966317508,\n",
       " 'lambda_l1': 4.279665235179919,\n",
       " 'lambda_l2': 3.5352970216793413,\n",
       " 'learning_rate': 0.30723597084186854,\n",
       " 'max_depth': 6.0,\n",
       " 'min_data_in_leaf': 16.0,\n",
       " 'n_estimators': 660.0,\n",
       " 'num_leaves': 100.0,\n",
       " 'seed': 1008949}"
      ]
     },
     "execution_count": 19,
     "metadata": {},
     "output_type": "execute_result"
    }
   ],
   "source": [
    "best"
   ]
  },
  {
   "cell_type": "code",
   "execution_count": 20,
   "metadata": {},
   "outputs": [],
   "source": [
    "best['boosting_type'] ='dart'"
   ]
  },
  {
   "cell_type": "code",
   "execution_count": 17,
   "metadata": {},
   "outputs": [],
   "source": [
    "best['num_leaves'] =75\n",
    "best['max_depth'] =7\n",
    "best['min_data_in_leaf'] =13\n",
    "best['n_estimators'] =600"
   ]
  },
  {
   "cell_type": "code",
   "execution_count": 21,
   "metadata": {},
   "outputs": [
    {
     "data": {
      "text/plain": [
       "LGBMClassifier(bagging_fraction=0.9413852420846343, boosting_type='dart',\n",
       "               class_weight=None, colsample_bytree=1.0,\n",
       "               feature_fraction=0.6849614453531285, importance_type='split',\n",
       "               lambda_l1=0.41708052179794475, lambda_l2=0.21867400489724648,\n",
       "               learning_rate=0.34098579465607776, max_depth=7,\n",
       "               min_child_samples=20, min_child_weight=0.001,\n",
       "               min_data_in_leaf=13, min_split_gain=0.0, n_estimators=600,\n",
       "               n_jobs=-1, num_leaves=75, objective=None, random_state=None,\n",
       "               reg_alpha=0.0, reg_lambda=0.0, seed=340621, silent=True,\n",
       "               subsample=1.0, subsample_for_bin=200000, subsample_freq=0)"
      ]
     },
     "execution_count": 21,
     "metadata": {},
     "output_type": "execute_result"
    }
   ],
   "source": [
    "# минут 10, обучение неоткалиброванной модели с наилучшими гиперпараметрами\n",
    "lgb_model.fit(X_train, y)"
   ]
  },
  {
   "cell_type": "code",
   "execution_count": 22,
   "metadata": {},
   "outputs": [],
   "source": [
    "lgb_predict_test = lgb_model.predict_proba(X_test)[:,1]"
   ]
  },
  {
   "cell_type": "code",
   "execution_count": 23,
   "metadata": {},
   "outputs": [
    {
     "data": {
      "image/png": "[encoded data removed]",
      "text/plain": [
       "<Figure size 432x288 with 1 Axes>"
      ]
     },
     "metadata": {
      "needs_background": "light"
     },
     "output_type": "display_data"
    }
   ],
   "source": [
    "import matplotlib.pyplot as plt\n",
    "plt.hist(lgb_predict_test, bins = 25)\n",
    "plt.show()"
   ]
  },
  {
   "cell_type": "code",
   "execution_count": 24,
   "metadata": {},
   "outputs": [
    {
     "data": {
      "text/plain": [
       "0.5689276848896325"
      ]
     },
     "execution_count": 24,
     "metadata": {},
     "output_type": "execute_result"
    }
   ],
   "source": [
    "lgb_predict_test.mean()"
   ]
  },
  {
   "cell_type": "code",
   "execution_count": 25,
   "metadata": {},
   "outputs": [
    {
     "data": {
      "text/plain": [
       "0.6122344200376918"
      ]
     },
     "execution_count": 25,
     "metadata": {},
     "output_type": "execute_result"
    }
   ],
   "source": [
    "import statistics\n",
    "statistics.median(lgb_predict_test)"
   ]
  },
  {
   "cell_type": "code",
   "execution_count": 26,
   "metadata": {},
   "outputs": [],
   "source": [
    "lgb_pred = pd.Series(lgb_predict_test)\n",
    "lgb_pred = lgb_pred.apply(lambda x: 2 if x >= 0.61 else 1)"
   ]
  },
  {
   "cell_type": "code",
   "execution_count": 35,
   "metadata": {},
   "outputs": [],
   "source": [
    "lgb_pred.to_csv('result.csv')"
   ]
  },
  {
   "cell_type": "code",
   "execution_count": 27,
   "metadata": {},
   "outputs": [],
   "source": [
    "lgb_pred=pd.DataFrame(lgb_pred)"
   ]
  },
  {
   "cell_type": "code",
   "execution_count": null,
   "metadata": {},
   "outputs": [],
   "source": []
  },
  {
   "cell_type": "code",
   "execution_count": 33,
   "metadata": {},
   "outputs": [
    {
     "data": {
      "text/html": [
       "<div>\n",
       "<style scoped>\n",
       "    .dataframe tbody tr th:only-of-type {\n",
       "        vertical-align: middle;\n",
       "    }\n",
       "\n",
       "    .dataframe tbody tr th {\n",
       "        vertical-align: top;\n",
       "    }\n",
       "\n",
       "    .dataframe thead th {\n",
       "        text-align: right;\n",
       "    }\n",
       "</style>\n",
       "<table border=\"1\" class=\"dataframe\">\n",
       "  <thead>\n",
       "    <tr style=\"text-align: right;\">\n",
       "      <th></th>\n",
       "      <th>Sex</th>\n",
       "    </tr>\n",
       "    <tr>\n",
       "      <th>Id</th>\n",
       "      <th></th>\n",
       "    </tr>\n",
       "  </thead>\n",
       "  <tbody>\n",
       "    <tr>\n",
       "      <td>1002</td>\n",
       "      <td>2</td>\n",
       "    </tr>\n",
       "    <tr>\n",
       "      <td>1003</td>\n",
       "      <td>2</td>\n",
       "    </tr>\n",
       "    <tr>\n",
       "      <td>1004</td>\n",
       "      <td>2</td>\n",
       "    </tr>\n",
       "    <tr>\n",
       "      <td>1005</td>\n",
       "      <td>2</td>\n",
       "    </tr>\n",
       "    <tr>\n",
       "      <td>1006</td>\n",
       "      <td>2</td>\n",
       "    </tr>\n",
       "    <tr>\n",
       "      <td>...</td>\n",
       "      <td>...</td>\n",
       "    </tr>\n",
       "    <tr>\n",
       "      <td>3493</td>\n",
       "      <td>1</td>\n",
       "    </tr>\n",
       "    <tr>\n",
       "      <td>3494</td>\n",
       "      <td>2</td>\n",
       "    </tr>\n",
       "    <tr>\n",
       "      <td>3497</td>\n",
       "      <td>1</td>\n",
       "    </tr>\n",
       "    <tr>\n",
       "      <td>3498</td>\n",
       "      <td>1</td>\n",
       "    </tr>\n",
       "    <tr>\n",
       "      <td>3499</td>\n",
       "      <td>2</td>\n",
       "    </tr>\n",
       "  </tbody>\n",
       "</table>\n",
       "<p>1859 rows × 1 columns</p>\n",
       "</div>"
      ],
      "text/plain": [
       "      Sex\n",
       "Id       \n",
       "1002    2\n",
       "1003    2\n",
       "1004    2\n",
       "1005    2\n",
       "1006    2\n",
       "...   ...\n",
       "3493    1\n",
       "3494    2\n",
       "3497    1\n",
       "3498    1\n",
       "3499    2\n",
       "\n",
       "[1859 rows x 1 columns]"
      ]
     },
     "execution_count": 33,
     "metadata": {},
     "output_type": "execute_result"
    }
   ],
   "source": [
    "lgb_pred.columns=['Sex']\n",
    "lgb_pred"
   ]
  },
  {
   "cell_type": "code",
   "execution_count": 32,
   "metadata": {},
   "outputs": [],
   "source": [
    "lgb_pred.index=X_testt.Id"
   ]
  },
  {
   "cell_type": "code",
   "execution_count": 30,
   "metadata": {},
   "outputs": [],
   "source": [
    "X_testt= pd.read_csv('predict_sex_test_no_answers_no_mv.csv', sep = ',', encoding = 'utf-8')"
   ]
  },
  {
   "cell_type": "code",
   "execution_count": 31,
   "metadata": {},
   "outputs": [
    {
     "data": {
      "text/plain": [
       "0       1002\n",
       "1       1003\n",
       "2       1004\n",
       "3       1005\n",
       "4       1006\n",
       "        ... \n",
       "1854    3493\n",
       "1855    3494\n",
       "1856    3497\n",
       "1857    3498\n",
       "1858    3499\n",
       "Name: Id, Length: 1859, dtype: int64"
      ]
     },
     "execution_count": 31,
     "metadata": {},
     "output_type": "execute_result"
    }
   ],
   "source": [
    "X_testt.Id"
   ]
  },
  {
   "cell_type": "code",
   "execution_count": 36,
   "metadata": {},
   "outputs": [],
   "source": [
    "lgb_pred.to_csv('result_med.csv')"
   ]
  },
  {
   "cell_type": "code",
   "execution_count": null,
   "metadata": {},
   "outputs": [],
   "source": []
  }
 ],
 "metadata": {
  "kernelspec": {
   "display_name": "Python 3",
   "language": "python",
   "name": "python3"
  },
  "language_info": {
   "codemirror_mode": {
    "name": "ipython",
    "version": 3
   },
   "file_extension": ".py",
   "mimetype": "text/x-python",
   "name": "python",
   "nbconvert_exporter": "python",
   "pygments_lexer": "ipython3",
   "version": "3.7.4"
  },
  "toc": {
   "base_numbering": 1,
   "nav_menu": {},
   "number_sections": true,
   "sideBar": true,
   "skip_h1_title": false,
   "title_cell": "Table of Contents",
   "title_sidebar": "Contents",
   "toc_cell": false,
   "toc_position": {},
   "toc_section_display": true,
   "toc_window_display": true
  }
 },
 "nbformat": 4,
 "nbformat_minor": 2
}
